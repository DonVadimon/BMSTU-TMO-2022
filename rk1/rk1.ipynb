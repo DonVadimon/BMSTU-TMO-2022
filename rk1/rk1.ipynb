{
 "cells": [
  {
   "cell_type": "markdown",
   "id": "9576bcf3",
   "metadata": {},
   "source": [
    "## Хижняков Вадим, ИУ5-65, Вариант 18\n",
    "\n",
    "### Задача №3.\n",
    "\n",
    "Для заданного набора данных произведите масштабирование данных (для одного признака) и преобразование категориальных признаков в количественные двумя способами (label encoding, one hot encoding) для одного признака. Какие методы Вы использовали для решения задачи и почему?"
   ]
  },
  {
   "cell_type": "code",
   "execution_count": 1,
   "id": "c2edc4f2",
   "metadata": {},
   "outputs": [],
   "source": [
    "import numpy as np\n",
    "import pandas as pd\n",
    "import seaborn as sns\n",
    "import matplotlib.pyplot as plt\n",
    "%matplotlib inline \n",
    "sns.set(style=\"ticks\")"
   ]
  },
  {
   "cell_type": "code",
   "execution_count": 2,
   "id": "98c4129e",
   "metadata": {},
   "outputs": [],
   "source": [
    "data = pd.read_csv('./dc-wikia-data.csv', sep=\",\")"
   ]
  },
  {
   "cell_type": "code",
   "execution_count": 3,
   "id": "2ca34479",
   "metadata": {},
   "outputs": [
    {
     "data": {
      "text/plain": [
       "(6896, 13)"
      ]
     },
     "execution_count": 3,
     "metadata": {},
     "output_type": "execute_result"
    }
   ],
   "source": [
    "# размер набора данных\n",
    "data.shape"
   ]
  },
  {
   "cell_type": "code",
   "execution_count": 4,
   "id": "3bf76e9f",
   "metadata": {},
   "outputs": [
    {
     "name": "stdout",
     "output_type": "stream",
     "text": [
      "<class 'pandas.core.frame.DataFrame'>\n",
      "RangeIndex: 6896 entries, 0 to 6895\n",
      "Data columns (total 13 columns):\n",
      " #   Column            Non-Null Count  Dtype  \n",
      "---  ------            --------------  -----  \n",
      " 0   page_id           6896 non-null   int64  \n",
      " 1   name              6896 non-null   object \n",
      " 2   urlslug           6896 non-null   object \n",
      " 3   ID                4883 non-null   object \n",
      " 4   ALIGN             6295 non-null   object \n",
      " 5   EYE               3268 non-null   object \n",
      " 6   HAIR              4622 non-null   object \n",
      " 7   SEX               6771 non-null   object \n",
      " 8   GSM               64 non-null     object \n",
      " 9   ALIVE             6893 non-null   object \n",
      " 10  APPEARANCES       6541 non-null   float64\n",
      " 11  FIRST APPEARANCE  6827 non-null   object \n",
      " 12  YEAR              6827 non-null   float64\n",
      "dtypes: float64(2), int64(1), object(10)\n",
      "memory usage: 700.5+ KB\n"
     ]
    }
   ],
   "source": [
    "data.info()"
   ]
  },
  {
   "cell_type": "code",
   "execution_count": 5,
   "id": "1820ad47",
   "metadata": {},
   "outputs": [
    {
     "data": {
      "text/plain": [
       "page_id               int64\n",
       "name                 object\n",
       "urlslug              object\n",
       "ID                   object\n",
       "ALIGN                object\n",
       "EYE                  object\n",
       "HAIR                 object\n",
       "SEX                  object\n",
       "GSM                  object\n",
       "ALIVE                object\n",
       "APPEARANCES         float64\n",
       "FIRST APPEARANCE     object\n",
       "YEAR                float64\n",
       "dtype: object"
      ]
     },
     "execution_count": 5,
     "metadata": {},
     "output_type": "execute_result"
    }
   ],
   "source": [
    "# типы колонок\n",
    "data.dtypes"
   ]
  },
  {
   "cell_type": "code",
   "execution_count": 6,
   "id": "6216254b",
   "metadata": {},
   "outputs": [
    {
     "data": {
      "text/html": [
       "<div>\n",
       "<style scoped>\n",
       "    .dataframe tbody tr th:only-of-type {\n",
       "        vertical-align: middle;\n",
       "    }\n",
       "\n",
       "    .dataframe tbody tr th {\n",
       "        vertical-align: top;\n",
       "    }\n",
       "\n",
       "    .dataframe thead th {\n",
       "        text-align: right;\n",
       "    }\n",
       "</style>\n",
       "<table border=\"1\" class=\"dataframe\">\n",
       "  <thead>\n",
       "    <tr style=\"text-align: right;\">\n",
       "      <th></th>\n",
       "      <th>page_id</th>\n",
       "      <th>name</th>\n",
       "      <th>urlslug</th>\n",
       "      <th>ID</th>\n",
       "      <th>ALIGN</th>\n",
       "      <th>EYE</th>\n",
       "      <th>HAIR</th>\n",
       "      <th>SEX</th>\n",
       "      <th>GSM</th>\n",
       "      <th>ALIVE</th>\n",
       "      <th>APPEARANCES</th>\n",
       "      <th>FIRST APPEARANCE</th>\n",
       "      <th>YEAR</th>\n",
       "    </tr>\n",
       "  </thead>\n",
       "  <tbody>\n",
       "    <tr>\n",
       "      <th>0</th>\n",
       "      <td>1422</td>\n",
       "      <td>Batman (Bruce Wayne)</td>\n",
       "      <td>\\/wiki\\/Batman_(Bruce_Wayne)</td>\n",
       "      <td>Secret Identity</td>\n",
       "      <td>Good Characters</td>\n",
       "      <td>Blue Eyes</td>\n",
       "      <td>Black Hair</td>\n",
       "      <td>Male Characters</td>\n",
       "      <td>NaN</td>\n",
       "      <td>Living Characters</td>\n",
       "      <td>3093.0</td>\n",
       "      <td>1939, May</td>\n",
       "      <td>1939.0</td>\n",
       "    </tr>\n",
       "    <tr>\n",
       "      <th>1</th>\n",
       "      <td>23387</td>\n",
       "      <td>Superman (Clark Kent)</td>\n",
       "      <td>\\/wiki\\/Superman_(Clark_Kent)</td>\n",
       "      <td>Secret Identity</td>\n",
       "      <td>Good Characters</td>\n",
       "      <td>Blue Eyes</td>\n",
       "      <td>Black Hair</td>\n",
       "      <td>Male Characters</td>\n",
       "      <td>NaN</td>\n",
       "      <td>Living Characters</td>\n",
       "      <td>2496.0</td>\n",
       "      <td>1986, October</td>\n",
       "      <td>1986.0</td>\n",
       "    </tr>\n",
       "    <tr>\n",
       "      <th>2</th>\n",
       "      <td>1458</td>\n",
       "      <td>Green Lantern (Hal Jordan)</td>\n",
       "      <td>\\/wiki\\/Green_Lantern_(Hal_Jordan)</td>\n",
       "      <td>Secret Identity</td>\n",
       "      <td>Good Characters</td>\n",
       "      <td>Brown Eyes</td>\n",
       "      <td>Brown Hair</td>\n",
       "      <td>Male Characters</td>\n",
       "      <td>NaN</td>\n",
       "      <td>Living Characters</td>\n",
       "      <td>1565.0</td>\n",
       "      <td>1959, October</td>\n",
       "      <td>1959.0</td>\n",
       "    </tr>\n",
       "    <tr>\n",
       "      <th>3</th>\n",
       "      <td>1659</td>\n",
       "      <td>James Gordon (New Earth)</td>\n",
       "      <td>\\/wiki\\/James_Gordon_(New_Earth)</td>\n",
       "      <td>Public Identity</td>\n",
       "      <td>Good Characters</td>\n",
       "      <td>Brown Eyes</td>\n",
       "      <td>White Hair</td>\n",
       "      <td>Male Characters</td>\n",
       "      <td>NaN</td>\n",
       "      <td>Living Characters</td>\n",
       "      <td>1316.0</td>\n",
       "      <td>1987, February</td>\n",
       "      <td>1987.0</td>\n",
       "    </tr>\n",
       "    <tr>\n",
       "      <th>4</th>\n",
       "      <td>1576</td>\n",
       "      <td>Richard Grayson (New Earth)</td>\n",
       "      <td>\\/wiki\\/Richard_Grayson_(New_Earth)</td>\n",
       "      <td>Secret Identity</td>\n",
       "      <td>Good Characters</td>\n",
       "      <td>Blue Eyes</td>\n",
       "      <td>Black Hair</td>\n",
       "      <td>Male Characters</td>\n",
       "      <td>NaN</td>\n",
       "      <td>Living Characters</td>\n",
       "      <td>1237.0</td>\n",
       "      <td>1940, April</td>\n",
       "      <td>1940.0</td>\n",
       "    </tr>\n",
       "  </tbody>\n",
       "</table>\n",
       "</div>"
      ],
      "text/plain": [
       "   page_id                         name                              urlslug  \\\n",
       "0     1422         Batman (Bruce Wayne)         \\/wiki\\/Batman_(Bruce_Wayne)   \n",
       "1    23387        Superman (Clark Kent)        \\/wiki\\/Superman_(Clark_Kent)   \n",
       "2     1458   Green Lantern (Hal Jordan)   \\/wiki\\/Green_Lantern_(Hal_Jordan)   \n",
       "3     1659     James Gordon (New Earth)     \\/wiki\\/James_Gordon_(New_Earth)   \n",
       "4     1576  Richard Grayson (New Earth)  \\/wiki\\/Richard_Grayson_(New_Earth)   \n",
       "\n",
       "                ID            ALIGN         EYE        HAIR              SEX  \\\n",
       "0  Secret Identity  Good Characters   Blue Eyes  Black Hair  Male Characters   \n",
       "1  Secret Identity  Good Characters   Blue Eyes  Black Hair  Male Characters   \n",
       "2  Secret Identity  Good Characters  Brown Eyes  Brown Hair  Male Characters   \n",
       "3  Public Identity  Good Characters  Brown Eyes  White Hair  Male Characters   \n",
       "4  Secret Identity  Good Characters   Blue Eyes  Black Hair  Male Characters   \n",
       "\n",
       "   GSM              ALIVE  APPEARANCES FIRST APPEARANCE    YEAR  \n",
       "0  NaN  Living Characters       3093.0        1939, May  1939.0  \n",
       "1  NaN  Living Characters       2496.0    1986, October  1986.0  \n",
       "2  NaN  Living Characters       1565.0    1959, October  1959.0  \n",
       "3  NaN  Living Characters       1316.0   1987, February  1987.0  \n",
       "4  NaN  Living Characters       1237.0      1940, April  1940.0  "
      ]
     },
     "execution_count": 6,
     "metadata": {},
     "output_type": "execute_result"
    }
   ],
   "source": [
    "data.head()"
   ]
  },
  {
   "cell_type": "code",
   "execution_count": 7,
   "id": "4b1478bd",
   "metadata": {},
   "outputs": [
    {
     "data": {
      "text/plain": [
       "page_id                0\n",
       "name                   0\n",
       "urlslug                0\n",
       "ID                  2013\n",
       "ALIGN                601\n",
       "EYE                 3628\n",
       "HAIR                2274\n",
       "SEX                  125\n",
       "GSM                 6832\n",
       "ALIVE                  3\n",
       "APPEARANCES          355\n",
       "FIRST APPEARANCE      69\n",
       "YEAR                  69\n",
       "dtype: int64"
      ]
     },
     "execution_count": 7,
     "metadata": {},
     "output_type": "execute_result"
    }
   ],
   "source": [
    "# проверим есть ли пропущенные значения\n",
    "data.isnull().sum()"
   ]
  },
  {
   "cell_type": "code",
   "execution_count": 8,
   "id": "071966d0",
   "metadata": {},
   "outputs": [
    {
     "name": "stdout",
     "output_type": "stream",
     "text": [
      "Всего строк: 6896\n"
     ]
    }
   ],
   "source": [
    "total_count = data.shape[0]\n",
    "print('Всего строк: {}'.format(total_count))"
   ]
  },
  {
   "cell_type": "code",
   "execution_count": 9,
   "id": "fe4326b1",
   "metadata": {},
   "outputs": [
    {
     "name": "stdout",
     "output_type": "stream",
     "text": [
      "Колонка ID. Тип данных object. Количество пустых значений 2013, 29.19%.\n",
      "Колонка ALIGN. Тип данных object. Количество пустых значений 601, 8.72%.\n",
      "Колонка EYE. Тип данных object. Количество пустых значений 3628, 52.61%.\n",
      "Колонка HAIR. Тип данных object. Количество пустых значений 2274, 32.98%.\n",
      "Колонка SEX. Тип данных object. Количество пустых значений 125, 1.81%.\n",
      "Колонка GSM. Тип данных object. Количество пустых значений 6832, 99.07%.\n",
      "Колонка ALIVE. Тип данных object. Количество пустых значений 3, 0.04%.\n",
      "Колонка FIRST APPEARANCE. Тип данных object. Количество пустых значений 69, 1.0%.\n"
     ]
    }
   ],
   "source": [
    "# Выберем категориальные колонки с пропущенными значениями\n",
    "# Цикл по колонкам датасета\n",
    "cat_cols = []\n",
    "for col in data.columns:\n",
    "    # Количество пустых значений \n",
    "    temp_null_count = data[data[col].isnull()].shape[0]\n",
    "    dt = str(data[col].dtype)\n",
    "    if temp_null_count>0 and (dt=='object'):\n",
    "        cat_cols.append(col)\n",
    "        temp_perc = round((temp_null_count / total_count) * 100.0, 2)\n",
    "        print('Колонка {}. Тип данных {}. Количество пустых значений {}, {}%.'.format(col, dt, temp_null_count, temp_perc))"
   ]
  },
  {
   "cell_type": "code",
   "execution_count": 10,
   "id": "b2526fe6",
   "metadata": {},
   "outputs": [],
   "source": [
    "from sklearn.impute import SimpleImputer\n",
    "from sklearn.impute import MissingIndicator"
   ]
  },
  {
   "cell_type": "code",
   "execution_count": 11,
   "id": "6c5b1820",
   "metadata": {},
   "outputs": [
    {
     "data": {
      "text/html": [
       "<div>\n",
       "<style scoped>\n",
       "    .dataframe tbody tr th:only-of-type {\n",
       "        vertical-align: middle;\n",
       "    }\n",
       "\n",
       "    .dataframe tbody tr th {\n",
       "        vertical-align: top;\n",
       "    }\n",
       "\n",
       "    .dataframe thead th {\n",
       "        text-align: right;\n",
       "    }\n",
       "</style>\n",
       "<table border=\"1\" class=\"dataframe\">\n",
       "  <thead>\n",
       "    <tr style=\"text-align: right;\">\n",
       "      <th></th>\n",
       "      <th>EYE</th>\n",
       "    </tr>\n",
       "  </thead>\n",
       "  <tbody>\n",
       "    <tr>\n",
       "      <th>0</th>\n",
       "      <td>Blue Eyes</td>\n",
       "    </tr>\n",
       "    <tr>\n",
       "      <th>1</th>\n",
       "      <td>Blue Eyes</td>\n",
       "    </tr>\n",
       "    <tr>\n",
       "      <th>2</th>\n",
       "      <td>Brown Eyes</td>\n",
       "    </tr>\n",
       "    <tr>\n",
       "      <th>3</th>\n",
       "      <td>Brown Eyes</td>\n",
       "    </tr>\n",
       "    <tr>\n",
       "      <th>4</th>\n",
       "      <td>Blue Eyes</td>\n",
       "    </tr>\n",
       "  </tbody>\n",
       "</table>\n",
       "</div>"
      ],
      "text/plain": [
       "          EYE\n",
       "0   Blue Eyes\n",
       "1   Blue Eyes\n",
       "2  Brown Eyes\n",
       "3  Brown Eyes\n",
       "4   Blue Eyes"
      ]
     },
     "execution_count": 11,
     "metadata": {},
     "output_type": "execute_result"
    }
   ],
   "source": [
    "eye_cat_data = data[['EYE']]\n",
    "eye_cat_data.head()"
   ]
  },
  {
   "cell_type": "code",
   "execution_count": 12,
   "id": "6d2ccf78",
   "metadata": {},
   "outputs": [
    {
     "data": {
      "text/plain": [
       "array(['Blue Eyes', 'Brown Eyes', 'Green Eyes', 'Purple Eyes',\n",
       "       'Black Eyes', 'White Eyes', 'Red Eyes', 'Photocellular Eyes',\n",
       "       'Hazel Eyes', 'Amber Eyes', 'Yellow Eyes', nan, 'Grey Eyes',\n",
       "       'Pink Eyes', 'Violet Eyes', 'Gold Eyes', 'Orange Eyes',\n",
       "       'Auburn Hair'], dtype=object)"
      ]
     },
     "execution_count": 12,
     "metadata": {},
     "output_type": "execute_result"
    }
   ],
   "source": [
    "eye_cat_data['EYE'].unique()"
   ]
  },
  {
   "cell_type": "code",
   "execution_count": 13,
   "id": "cee296ad",
   "metadata": {},
   "outputs": [
    {
     "data": {
      "text/plain": [
       "(3628, 1)"
      ]
     },
     "execution_count": 13,
     "metadata": {},
     "output_type": "execute_result"
    }
   ],
   "source": [
    "eye_cat_data[eye_cat_data['EYE'].isnull()].shape"
   ]
  },
  {
   "cell_type": "code",
   "execution_count": 14,
   "id": "2b71077a",
   "metadata": {},
   "outputs": [
    {
     "data": {
      "text/plain": [
       "array([['Blue Eyes'],\n",
       "       ['Blue Eyes'],\n",
       "       ['Brown Eyes'],\n",
       "       ...,\n",
       "       ['Blue Eyes'],\n",
       "       ['Blue Eyes'],\n",
       "       ['Blue Eyes']], dtype=object)"
      ]
     },
     "execution_count": 14,
     "metadata": {},
     "output_type": "execute_result"
    }
   ],
   "source": [
    "# Импьютация наиболее частыми значениями\n",
    "imp = SimpleImputer(missing_values=np.nan, strategy='most_frequent')\n",
    "data_imp = imp.fit_transform(eye_cat_data)\n",
    "data_imp"
   ]
  },
  {
   "cell_type": "code",
   "execution_count": 15,
   "id": "e4b9a808",
   "metadata": {},
   "outputs": [
    {
     "data": {
      "text/plain": [
       "array(['Amber Eyes', 'Auburn Hair', 'Black Eyes', 'Blue Eyes',\n",
       "       'Brown Eyes', 'Gold Eyes', 'Green Eyes', 'Grey Eyes', 'Hazel Eyes',\n",
       "       'Orange Eyes', 'Photocellular Eyes', 'Pink Eyes', 'Purple Eyes',\n",
       "       'Red Eyes', 'Violet Eyes', 'White Eyes', 'Yellow Eyes'],\n",
       "      dtype=object)"
      ]
     },
     "execution_count": 15,
     "metadata": {},
     "output_type": "execute_result"
    }
   ],
   "source": [
    "# Пустые значения отсутствуют\n",
    "np.unique(data_imp)"
   ]
  },
  {
   "cell_type": "code",
   "execution_count": 16,
   "id": "468eef58",
   "metadata": {},
   "outputs": [
    {
     "data": {
      "text/plain": [
       "(6896, 1)"
      ]
     },
     "execution_count": 16,
     "metadata": {},
     "output_type": "execute_result"
    }
   ],
   "source": [
    "data_imp.shape"
   ]
  },
  {
   "cell_type": "markdown",
   "id": "7c50bcab",
   "metadata": {},
   "source": [
    "### Кодирование категорий наборами бинарных значений - one-hot encoding\n",
    "\n",
    "В этом случае каждое уникальное значение признака становится новым отдельным признаком.Я буду проводить масштабирование при использовании label encoding, но по заданию надо было сделать и one-hot encoding"
   ]
  },
  {
   "cell_type": "code",
   "execution_count": 17,
   "id": "8c83f2af",
   "metadata": {},
   "outputs": [
    {
     "data": {
      "text/html": [
       "<div>\n",
       "<style scoped>\n",
       "    .dataframe tbody tr th:only-of-type {\n",
       "        vertical-align: middle;\n",
       "    }\n",
       "\n",
       "    .dataframe tbody tr th {\n",
       "        vertical-align: top;\n",
       "    }\n",
       "\n",
       "    .dataframe thead th {\n",
       "        text-align: right;\n",
       "    }\n",
       "</style>\n",
       "<table border=\"1\" class=\"dataframe\">\n",
       "  <thead>\n",
       "    <tr style=\"text-align: right;\">\n",
       "      <th></th>\n",
       "      <th>EYE</th>\n",
       "    </tr>\n",
       "  </thead>\n",
       "  <tbody>\n",
       "    <tr>\n",
       "      <th>0</th>\n",
       "      <td>Blue Eyes</td>\n",
       "    </tr>\n",
       "    <tr>\n",
       "      <th>1</th>\n",
       "      <td>Blue Eyes</td>\n",
       "    </tr>\n",
       "    <tr>\n",
       "      <th>2</th>\n",
       "      <td>Brown Eyes</td>\n",
       "    </tr>\n",
       "    <tr>\n",
       "      <th>3</th>\n",
       "      <td>Brown Eyes</td>\n",
       "    </tr>\n",
       "    <tr>\n",
       "      <th>4</th>\n",
       "      <td>Blue Eyes</td>\n",
       "    </tr>\n",
       "    <tr>\n",
       "      <th>...</th>\n",
       "      <td>...</td>\n",
       "    </tr>\n",
       "    <tr>\n",
       "      <th>6891</th>\n",
       "      <td>Blue Eyes</td>\n",
       "    </tr>\n",
       "    <tr>\n",
       "      <th>6892</th>\n",
       "      <td>Blue Eyes</td>\n",
       "    </tr>\n",
       "    <tr>\n",
       "      <th>6893</th>\n",
       "      <td>Blue Eyes</td>\n",
       "    </tr>\n",
       "    <tr>\n",
       "      <th>6894</th>\n",
       "      <td>Blue Eyes</td>\n",
       "    </tr>\n",
       "    <tr>\n",
       "      <th>6895</th>\n",
       "      <td>Blue Eyes</td>\n",
       "    </tr>\n",
       "  </tbody>\n",
       "</table>\n",
       "<p>6896 rows × 1 columns</p>\n",
       "</div>"
      ],
      "text/plain": [
       "             EYE\n",
       "0      Blue Eyes\n",
       "1      Blue Eyes\n",
       "2     Brown Eyes\n",
       "3     Brown Eyes\n",
       "4      Blue Eyes\n",
       "...          ...\n",
       "6891   Blue Eyes\n",
       "6892   Blue Eyes\n",
       "6893   Blue Eyes\n",
       "6894   Blue Eyes\n",
       "6895   Blue Eyes\n",
       "\n",
       "[6896 rows x 1 columns]"
      ]
     },
     "execution_count": 17,
     "metadata": {},
     "output_type": "execute_result"
    }
   ],
   "source": [
    "eye_cat_enc = pd.DataFrame({'EYE':data_imp.T[0]})\n",
    "eye_cat_enc"
   ]
  },
  {
   "cell_type": "code",
   "execution_count": 18,
   "id": "fd1ab37d",
   "metadata": {},
   "outputs": [],
   "source": [
    "from sklearn.preprocessing import OneHotEncoder"
   ]
  },
  {
   "cell_type": "code",
   "execution_count": 19,
   "id": "15765be3",
   "metadata": {},
   "outputs": [],
   "source": [
    "ohe = OneHotEncoder()\n",
    "eye_cat_enc_ohe = ohe.fit_transform(eye_cat_enc[['EYE']])"
   ]
  },
  {
   "cell_type": "code",
   "execution_count": 20,
   "id": "0b97d584",
   "metadata": {},
   "outputs": [
    {
     "data": {
      "text/plain": [
       "(6896, 17)"
      ]
     },
     "execution_count": 20,
     "metadata": {},
     "output_type": "execute_result"
    }
   ],
   "source": [
    "eye_cat_enc_ohe.shape"
   ]
  },
  {
   "cell_type": "code",
   "execution_count": 21,
   "id": "7bd2dc6d",
   "metadata": {},
   "outputs": [
    {
     "data": {
      "text/plain": [
       "matrix([[0., 0., 0., 1., 0., 0., 0., 0., 0., 0., 0., 0., 0., 0., 0., 0.,\n",
       "         0.],\n",
       "        [0., 0., 0., 1., 0., 0., 0., 0., 0., 0., 0., 0., 0., 0., 0., 0.,\n",
       "         0.],\n",
       "        [0., 0., 0., 0., 1., 0., 0., 0., 0., 0., 0., 0., 0., 0., 0., 0.,\n",
       "         0.],\n",
       "        [0., 0., 0., 0., 1., 0., 0., 0., 0., 0., 0., 0., 0., 0., 0., 0.,\n",
       "         0.],\n",
       "        [0., 0., 0., 1., 0., 0., 0., 0., 0., 0., 0., 0., 0., 0., 0., 0.,\n",
       "         0.],\n",
       "        [0., 0., 0., 1., 0., 0., 0., 0., 0., 0., 0., 0., 0., 0., 0., 0.,\n",
       "         0.],\n",
       "        [0., 0., 0., 1., 0., 0., 0., 0., 0., 0., 0., 0., 0., 0., 0., 0.,\n",
       "         0.],\n",
       "        [0., 0., 0., 1., 0., 0., 0., 0., 0., 0., 0., 0., 0., 0., 0., 0.,\n",
       "         0.],\n",
       "        [0., 0., 0., 1., 0., 0., 0., 0., 0., 0., 0., 0., 0., 0., 0., 0.,\n",
       "         0.],\n",
       "        [0., 0., 0., 1., 0., 0., 0., 0., 0., 0., 0., 0., 0., 0., 0., 0.,\n",
       "         0.]])"
      ]
     },
     "execution_count": 21,
     "metadata": {},
     "output_type": "execute_result"
    }
   ],
   "source": [
    "eye_cat_enc_ohe.todense()[0:10]"
   ]
  },
  {
   "cell_type": "code",
   "execution_count": 22,
   "id": "7d270ccb",
   "metadata": {},
   "outputs": [
    {
     "data": {
      "text/html": [
       "<div>\n",
       "<style scoped>\n",
       "    .dataframe tbody tr th:only-of-type {\n",
       "        vertical-align: middle;\n",
       "    }\n",
       "\n",
       "    .dataframe tbody tr th {\n",
       "        vertical-align: top;\n",
       "    }\n",
       "\n",
       "    .dataframe thead th {\n",
       "        text-align: right;\n",
       "    }\n",
       "</style>\n",
       "<table border=\"1\" class=\"dataframe\">\n",
       "  <thead>\n",
       "    <tr style=\"text-align: right;\">\n",
       "      <th></th>\n",
       "      <th>EYE_Amber Eyes</th>\n",
       "      <th>EYE_Auburn Hair</th>\n",
       "      <th>EYE_Black Eyes</th>\n",
       "      <th>EYE_Blue Eyes</th>\n",
       "      <th>EYE_Brown Eyes</th>\n",
       "      <th>EYE_Gold Eyes</th>\n",
       "      <th>EYE_Green Eyes</th>\n",
       "      <th>EYE_Grey Eyes</th>\n",
       "      <th>EYE_Hazel Eyes</th>\n",
       "      <th>EYE_Orange Eyes</th>\n",
       "      <th>EYE_Photocellular Eyes</th>\n",
       "      <th>EYE_Pink Eyes</th>\n",
       "      <th>EYE_Purple Eyes</th>\n",
       "      <th>EYE_Red Eyes</th>\n",
       "      <th>EYE_Violet Eyes</th>\n",
       "      <th>EYE_White Eyes</th>\n",
       "      <th>EYE_Yellow Eyes</th>\n",
       "    </tr>\n",
       "  </thead>\n",
       "  <tbody>\n",
       "    <tr>\n",
       "      <th>0</th>\n",
       "      <td>0</td>\n",
       "      <td>0</td>\n",
       "      <td>0</td>\n",
       "      <td>1</td>\n",
       "      <td>0</td>\n",
       "      <td>0</td>\n",
       "      <td>0</td>\n",
       "      <td>0</td>\n",
       "      <td>0</td>\n",
       "      <td>0</td>\n",
       "      <td>0</td>\n",
       "      <td>0</td>\n",
       "      <td>0</td>\n",
       "      <td>0</td>\n",
       "      <td>0</td>\n",
       "      <td>0</td>\n",
       "      <td>0</td>\n",
       "    </tr>\n",
       "    <tr>\n",
       "      <th>1</th>\n",
       "      <td>0</td>\n",
       "      <td>0</td>\n",
       "      <td>0</td>\n",
       "      <td>1</td>\n",
       "      <td>0</td>\n",
       "      <td>0</td>\n",
       "      <td>0</td>\n",
       "      <td>0</td>\n",
       "      <td>0</td>\n",
       "      <td>0</td>\n",
       "      <td>0</td>\n",
       "      <td>0</td>\n",
       "      <td>0</td>\n",
       "      <td>0</td>\n",
       "      <td>0</td>\n",
       "      <td>0</td>\n",
       "      <td>0</td>\n",
       "    </tr>\n",
       "    <tr>\n",
       "      <th>2</th>\n",
       "      <td>0</td>\n",
       "      <td>0</td>\n",
       "      <td>0</td>\n",
       "      <td>0</td>\n",
       "      <td>1</td>\n",
       "      <td>0</td>\n",
       "      <td>0</td>\n",
       "      <td>0</td>\n",
       "      <td>0</td>\n",
       "      <td>0</td>\n",
       "      <td>0</td>\n",
       "      <td>0</td>\n",
       "      <td>0</td>\n",
       "      <td>0</td>\n",
       "      <td>0</td>\n",
       "      <td>0</td>\n",
       "      <td>0</td>\n",
       "    </tr>\n",
       "    <tr>\n",
       "      <th>3</th>\n",
       "      <td>0</td>\n",
       "      <td>0</td>\n",
       "      <td>0</td>\n",
       "      <td>0</td>\n",
       "      <td>1</td>\n",
       "      <td>0</td>\n",
       "      <td>0</td>\n",
       "      <td>0</td>\n",
       "      <td>0</td>\n",
       "      <td>0</td>\n",
       "      <td>0</td>\n",
       "      <td>0</td>\n",
       "      <td>0</td>\n",
       "      <td>0</td>\n",
       "      <td>0</td>\n",
       "      <td>0</td>\n",
       "      <td>0</td>\n",
       "    </tr>\n",
       "    <tr>\n",
       "      <th>4</th>\n",
       "      <td>0</td>\n",
       "      <td>0</td>\n",
       "      <td>0</td>\n",
       "      <td>1</td>\n",
       "      <td>0</td>\n",
       "      <td>0</td>\n",
       "      <td>0</td>\n",
       "      <td>0</td>\n",
       "      <td>0</td>\n",
       "      <td>0</td>\n",
       "      <td>0</td>\n",
       "      <td>0</td>\n",
       "      <td>0</td>\n",
       "      <td>0</td>\n",
       "      <td>0</td>\n",
       "      <td>0</td>\n",
       "      <td>0</td>\n",
       "    </tr>\n",
       "  </tbody>\n",
       "</table>\n",
       "</div>"
      ],
      "text/plain": [
       "   EYE_Amber Eyes  EYE_Auburn Hair  EYE_Black Eyes  EYE_Blue Eyes  \\\n",
       "0               0                0               0              1   \n",
       "1               0                0               0              1   \n",
       "2               0                0               0              0   \n",
       "3               0                0               0              0   \n",
       "4               0                0               0              1   \n",
       "\n",
       "   EYE_Brown Eyes  EYE_Gold Eyes  EYE_Green Eyes  EYE_Grey Eyes  \\\n",
       "0               0              0               0              0   \n",
       "1               0              0               0              0   \n",
       "2               1              0               0              0   \n",
       "3               1              0               0              0   \n",
       "4               0              0               0              0   \n",
       "\n",
       "   EYE_Hazel Eyes  EYE_Orange Eyes  EYE_Photocellular Eyes  EYE_Pink Eyes  \\\n",
       "0               0                0                       0              0   \n",
       "1               0                0                       0              0   \n",
       "2               0                0                       0              0   \n",
       "3               0                0                       0              0   \n",
       "4               0                0                       0              0   \n",
       "\n",
       "   EYE_Purple Eyes  EYE_Red Eyes  EYE_Violet Eyes  EYE_White Eyes  \\\n",
       "0                0             0                0               0   \n",
       "1                0             0                0               0   \n",
       "2                0             0                0               0   \n",
       "3                0             0                0               0   \n",
       "4                0             0                0               0   \n",
       "\n",
       "   EYE_Yellow Eyes  \n",
       "0                0  \n",
       "1                0  \n",
       "2                0  \n",
       "3                0  \n",
       "4                0  "
      ]
     },
     "execution_count": 22,
     "metadata": {},
     "output_type": "execute_result"
    }
   ],
   "source": [
    "pd.get_dummies(eye_cat_enc).head()"
   ]
  },
  {
   "cell_type": "code",
   "execution_count": 23,
   "id": "7002c897",
   "metadata": {},
   "outputs": [
    {
     "data": {
      "text/html": [
       "<div>\n",
       "<style scoped>\n",
       "    .dataframe tbody tr th:only-of-type {\n",
       "        vertical-align: middle;\n",
       "    }\n",
       "\n",
       "    .dataframe tbody tr th {\n",
       "        vertical-align: top;\n",
       "    }\n",
       "\n",
       "    .dataframe thead th {\n",
       "        text-align: right;\n",
       "    }\n",
       "</style>\n",
       "<table border=\"1\" class=\"dataframe\">\n",
       "  <thead>\n",
       "    <tr style=\"text-align: right;\">\n",
       "      <th></th>\n",
       "      <th>EYE_Amber Eyes</th>\n",
       "      <th>EYE_Auburn Hair</th>\n",
       "      <th>EYE_Black Eyes</th>\n",
       "      <th>EYE_Blue Eyes</th>\n",
       "      <th>EYE_Brown Eyes</th>\n",
       "      <th>EYE_Gold Eyes</th>\n",
       "      <th>EYE_Green Eyes</th>\n",
       "      <th>EYE_Grey Eyes</th>\n",
       "      <th>EYE_Hazel Eyes</th>\n",
       "      <th>EYE_Orange Eyes</th>\n",
       "      <th>EYE_Photocellular Eyes</th>\n",
       "      <th>EYE_Pink Eyes</th>\n",
       "      <th>EYE_Purple Eyes</th>\n",
       "      <th>EYE_Red Eyes</th>\n",
       "      <th>EYE_Violet Eyes</th>\n",
       "      <th>EYE_White Eyes</th>\n",
       "      <th>EYE_Yellow Eyes</th>\n",
       "      <th>EYE_nan</th>\n",
       "    </tr>\n",
       "  </thead>\n",
       "  <tbody>\n",
       "    <tr>\n",
       "      <th>0</th>\n",
       "      <td>0</td>\n",
       "      <td>0</td>\n",
       "      <td>0</td>\n",
       "      <td>1</td>\n",
       "      <td>0</td>\n",
       "      <td>0</td>\n",
       "      <td>0</td>\n",
       "      <td>0</td>\n",
       "      <td>0</td>\n",
       "      <td>0</td>\n",
       "      <td>0</td>\n",
       "      <td>0</td>\n",
       "      <td>0</td>\n",
       "      <td>0</td>\n",
       "      <td>0</td>\n",
       "      <td>0</td>\n",
       "      <td>0</td>\n",
       "      <td>0</td>\n",
       "    </tr>\n",
       "    <tr>\n",
       "      <th>1</th>\n",
       "      <td>0</td>\n",
       "      <td>0</td>\n",
       "      <td>0</td>\n",
       "      <td>1</td>\n",
       "      <td>0</td>\n",
       "      <td>0</td>\n",
       "      <td>0</td>\n",
       "      <td>0</td>\n",
       "      <td>0</td>\n",
       "      <td>0</td>\n",
       "      <td>0</td>\n",
       "      <td>0</td>\n",
       "      <td>0</td>\n",
       "      <td>0</td>\n",
       "      <td>0</td>\n",
       "      <td>0</td>\n",
       "      <td>0</td>\n",
       "      <td>0</td>\n",
       "    </tr>\n",
       "    <tr>\n",
       "      <th>2</th>\n",
       "      <td>0</td>\n",
       "      <td>0</td>\n",
       "      <td>0</td>\n",
       "      <td>0</td>\n",
       "      <td>1</td>\n",
       "      <td>0</td>\n",
       "      <td>0</td>\n",
       "      <td>0</td>\n",
       "      <td>0</td>\n",
       "      <td>0</td>\n",
       "      <td>0</td>\n",
       "      <td>0</td>\n",
       "      <td>0</td>\n",
       "      <td>0</td>\n",
       "      <td>0</td>\n",
       "      <td>0</td>\n",
       "      <td>0</td>\n",
       "      <td>0</td>\n",
       "    </tr>\n",
       "    <tr>\n",
       "      <th>3</th>\n",
       "      <td>0</td>\n",
       "      <td>0</td>\n",
       "      <td>0</td>\n",
       "      <td>0</td>\n",
       "      <td>1</td>\n",
       "      <td>0</td>\n",
       "      <td>0</td>\n",
       "      <td>0</td>\n",
       "      <td>0</td>\n",
       "      <td>0</td>\n",
       "      <td>0</td>\n",
       "      <td>0</td>\n",
       "      <td>0</td>\n",
       "      <td>0</td>\n",
       "      <td>0</td>\n",
       "      <td>0</td>\n",
       "      <td>0</td>\n",
       "      <td>0</td>\n",
       "    </tr>\n",
       "    <tr>\n",
       "      <th>4</th>\n",
       "      <td>0</td>\n",
       "      <td>0</td>\n",
       "      <td>0</td>\n",
       "      <td>1</td>\n",
       "      <td>0</td>\n",
       "      <td>0</td>\n",
       "      <td>0</td>\n",
       "      <td>0</td>\n",
       "      <td>0</td>\n",
       "      <td>0</td>\n",
       "      <td>0</td>\n",
       "      <td>0</td>\n",
       "      <td>0</td>\n",
       "      <td>0</td>\n",
       "      <td>0</td>\n",
       "      <td>0</td>\n",
       "      <td>0</td>\n",
       "      <td>0</td>\n",
       "    </tr>\n",
       "  </tbody>\n",
       "</table>\n",
       "</div>"
      ],
      "text/plain": [
       "   EYE_Amber Eyes  EYE_Auburn Hair  EYE_Black Eyes  EYE_Blue Eyes  \\\n",
       "0               0                0               0              1   \n",
       "1               0                0               0              1   \n",
       "2               0                0               0              0   \n",
       "3               0                0               0              0   \n",
       "4               0                0               0              1   \n",
       "\n",
       "   EYE_Brown Eyes  EYE_Gold Eyes  EYE_Green Eyes  EYE_Grey Eyes  \\\n",
       "0               0              0               0              0   \n",
       "1               0              0               0              0   \n",
       "2               1              0               0              0   \n",
       "3               1              0               0              0   \n",
       "4               0              0               0              0   \n",
       "\n",
       "   EYE_Hazel Eyes  EYE_Orange Eyes  EYE_Photocellular Eyes  EYE_Pink Eyes  \\\n",
       "0               0                0                       0              0   \n",
       "1               0                0                       0              0   \n",
       "2               0                0                       0              0   \n",
       "3               0                0                       0              0   \n",
       "4               0                0                       0              0   \n",
       "\n",
       "   EYE_Purple Eyes  EYE_Red Eyes  EYE_Violet Eyes  EYE_White Eyes  \\\n",
       "0                0             0                0               0   \n",
       "1                0             0                0               0   \n",
       "2                0             0                0               0   \n",
       "3                0             0                0               0   \n",
       "4                0             0                0               0   \n",
       "\n",
       "   EYE_Yellow Eyes  EYE_nan  \n",
       "0                0        0  \n",
       "1                0        0  \n",
       "2                0        0  \n",
       "3                0        0  \n",
       "4                0        0  "
      ]
     },
     "execution_count": 23,
     "metadata": {},
     "output_type": "execute_result"
    }
   ],
   "source": [
    "pd.get_dummies(eye_cat_data, dummy_na=True).head()"
   ]
  },
  {
   "cell_type": "markdown",
   "id": "bbf707ef",
   "metadata": {},
   "source": [
    "### Использование LabelEncoder\n",
    "\n",
    "Был выбран из-за своей ориентации на применение к одному признаку, в нашем случае цвет глаз"
   ]
  },
  {
   "cell_type": "code",
   "execution_count": 24,
   "id": "993c8432",
   "metadata": {},
   "outputs": [],
   "source": [
    "from sklearn.preprocessing import LabelEncoder"
   ]
  },
  {
   "cell_type": "code",
   "execution_count": 25,
   "id": "c47d2d38",
   "metadata": {},
   "outputs": [
    {
     "data": {
      "text/plain": [
       "array(['Blue Eyes', 'Brown Eyes', 'Green Eyes', 'Purple Eyes',\n",
       "       'Black Eyes', 'White Eyes', 'Red Eyes', 'Photocellular Eyes',\n",
       "       'Hazel Eyes', 'Amber Eyes', 'Yellow Eyes', 'Grey Eyes',\n",
       "       'Pink Eyes', 'Violet Eyes', 'Gold Eyes', 'Orange Eyes',\n",
       "       'Auburn Hair'], dtype=object)"
      ]
     },
     "execution_count": 25,
     "metadata": {},
     "output_type": "execute_result"
    }
   ],
   "source": [
    "eye_cat_enc['EYE'].unique()"
   ]
  },
  {
   "cell_type": "code",
   "execution_count": 26,
   "id": "98bf572e",
   "metadata": {},
   "outputs": [],
   "source": [
    "le = LabelEncoder()\n",
    "eye_cat_enc_le = le.fit_transform(eye_cat_enc['EYE'])"
   ]
  },
  {
   "cell_type": "code",
   "execution_count": 27,
   "id": "0f1ecdff",
   "metadata": {},
   "outputs": [
    {
     "data": {
      "text/plain": [
       "array([3, 3, 4, ..., 3, 3, 3])"
      ]
     },
     "execution_count": 27,
     "metadata": {},
     "output_type": "execute_result"
    }
   ],
   "source": [
    "eye_cat_enc_le"
   ]
  },
  {
   "cell_type": "code",
   "execution_count": 28,
   "id": "0b2ae538",
   "metadata": {},
   "outputs": [
    {
     "data": {
      "text/plain": [
       "array([ 0,  1,  2,  3,  4,  5,  6,  7,  8,  9, 10, 11, 12, 13, 14, 15, 16])"
      ]
     },
     "execution_count": 28,
     "metadata": {},
     "output_type": "execute_result"
    }
   ],
   "source": [
    "np.unique(eye_cat_enc_le)"
   ]
  },
  {
   "cell_type": "code",
   "execution_count": 29,
   "id": "50b8e8cc",
   "metadata": {},
   "outputs": [
    {
     "data": {
      "text/plain": [
       "array(['Amber Eyes', 'Auburn Hair', 'Black Eyes', 'Blue Eyes',\n",
       "       'Brown Eyes', 'Gold Eyes', 'Green Eyes', 'Grey Eyes', 'Hazel Eyes',\n",
       "       'Orange Eyes', 'Photocellular Eyes', 'Pink Eyes', 'Purple Eyes',\n",
       "       'Red Eyes', 'Violet Eyes', 'White Eyes', 'Yellow Eyes'],\n",
       "      dtype=object)"
      ]
     },
     "execution_count": 29,
     "metadata": {},
     "output_type": "execute_result"
    }
   ],
   "source": [
    "le.inverse_transform([n for n in range(17)])"
   ]
  },
  {
   "cell_type": "code",
   "execution_count": 30,
   "id": "1ec1942d",
   "metadata": {},
   "outputs": [],
   "source": [
    "data_digit = eye_cat_enc.copy()\n",
    "data_digit[\"EYE\"] = eye_cat_enc_le"
   ]
  },
  {
   "cell_type": "markdown",
   "id": "ccb8c03a",
   "metadata": {},
   "source": [
    "### Масштабирование"
   ]
  },
  {
   "cell_type": "code",
   "execution_count": 31,
   "id": "eb9709b9",
   "metadata": {},
   "outputs": [],
   "source": [
    "from sklearn.preprocessing import MinMaxScaler, StandardScaler, Normalizer"
   ]
  },
  {
   "cell_type": "code",
   "execution_count": 32,
   "id": "fbc2bb6a",
   "metadata": {},
   "outputs": [],
   "source": [
    "sc1 = MinMaxScaler()\n",
    "sc1_data = sc1.fit_transform(data_digit[['EYE']])"
   ]
  },
  {
   "cell_type": "code",
   "execution_count": 33,
   "id": "6da55416",
   "metadata": {},
   "outputs": [
    {
     "data": {
      "image/png": "[encoded data removed]",
      "text/plain": [
       "<Figure size 432x288 with 1 Axes>"
      ]
     },
     "metadata": {},
     "output_type": "display_data"
    }
   ],
   "source": [
    "plt.hist(data_digit['EYE'], 50)\n",
    "plt.show()"
   ]
  },
  {
   "cell_type": "code",
   "execution_count": 34,
   "id": "e27f0b06",
   "metadata": {},
   "outputs": [
    {
     "data": {
      "image/png": "[encoded data removed]",
      "text/plain": [
       "<Figure size 432x288 with 1 Axes>"
      ]
     },
     "metadata": {},
     "output_type": "display_data"
    }
   ],
   "source": [
    "plt.hist(sc1_data, 50)\n",
    "plt.show()"
   ]
  },
  {
   "cell_type": "markdown",
   "id": "4fae9578",
   "metadata": {},
   "source": [
    "### Масштабирование данных на основе Z-оценки - StandardScaler"
   ]
  },
  {
   "cell_type": "code",
   "execution_count": 35,
   "id": "f1166e28",
   "metadata": {},
   "outputs": [],
   "source": [
    "sc2 = StandardScaler()\n",
    "sc2_data = sc2.fit_transform(data_digit[['EYE']])"
   ]
  },
  {
   "cell_type": "code",
   "execution_count": 36,
   "id": "cfb4d356",
   "metadata": {},
   "outputs": [
    {
     "data": {
      "image/png": "[encoded data removed]",
      "text/plain": [
       "<Figure size 432x288 with 1 Axes>"
      ]
     },
     "metadata": {},
     "output_type": "display_data"
    }
   ],
   "source": [
    "plt.hist(sc2_data, 50)\n",
    "plt.show()"
   ]
  },
  {
   "cell_type": "markdown",
   "id": "755b3b84",
   "metadata": {},
   "source": [
    "### Парные диаграммы"
   ]
  },
  {
   "cell_type": "code",
   "execution_count": 37,
   "id": "81a16b57",
   "metadata": {},
   "outputs": [
    {
     "data": {
      "text/plain": [
       "<seaborn.axisgrid.PairGrid at 0x7f863a197e80>"
      ]
     },
     "execution_count": 37,
     "metadata": {},
     "output_type": "execute_result"
    },
    {
     "data": {
      "image/png": "[encoded data removed]",
      "text/plain": [
       "<Figure size 540x540 with 12 Axes>"
      ]
     },
     "metadata": {},
     "output_type": "display_data"
    }
   ],
   "source": [
    "sns.pairplot(data)"
   ]
  }
 ],
 "metadata": {
  "kernelspec": {
   "display_name": "Python 3 (ipykernel)",
   "language": "python",
   "name": "python3"
  },
  "language_info": {
   "codemirror_mode": {
    "name": "ipython",
    "version": 3
   },
   "file_extension": ".py",
   "mimetype": "text/x-python",
   "name": "python",
   "nbconvert_exporter": "python",
   "pygments_lexer": "ipython3",
   "version": "3.8.9"
  }
 },
 "nbformat": 4,
 "nbformat_minor": 5
}
